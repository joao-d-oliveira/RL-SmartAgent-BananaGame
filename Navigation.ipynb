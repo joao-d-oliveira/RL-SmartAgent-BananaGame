{
 "cells": [
  {
   "cell_type": "markdown",
   "metadata": {
    "id": "eZEcgrQx7SK-"
   },
   "source": [
    "# Initial SETUP"
   ]
  },
  {
   "cell_type": "code",
   "execution_count": 1,
   "metadata": {
    "executionInfo": {
     "elapsed": 2,
     "status": "ok",
     "timestamp": 1626084989441,
     "user": {
      "displayName": "Joao de Oliveira",
      "photoUrl": "https://lh3.googleusercontent.com/a-/AOh14GihOWrwyNatVkIU8_bY10TQ_vXU6yj1fX8-gw6tGgI=s64",
      "userId": "15570875331145277611"
     },
     "user_tz": 180
    },
    "id": "ALXwf4gJ5soY"
   },
   "outputs": [],
   "source": [
    "import os \n",
    "\n",
    "SETUP = {\n",
    "    'CURR_DIR': os.getcwd(),\n",
    "    'DEBUG': True,\n",
    "    'DEBUG_EPISODES': 500,\n",
    "    'EPISODES': 2000,\n",
    "    'MAX_STEPS': 1000,\n",
    "    'EPS_INI': 1.0, \n",
    "    'EPS_END': 1e-4,\n",
    "    'EPS_DECAY': 0.995,\n",
    "    'GAMMA': 1,\n",
    "    'SEED':32,  \n",
    "    'BUFFER_SIZE': int(1e5),\n",
    "    'BATCH_SIZE': 64,\n",
    "    'GAMMA': 0.99,\n",
    "    'TAU': 1e-3,\n",
    "    'LR': 5e-4,\n",
    "    'UPDATE_EVERY': 4,\n",
    "    'FC1_UNITS': 64,\n",
    "    'FC2_UNITS': 64,\n",
    "}\n",
    "\n",
    "try:\n",
    "  import google.colab\n",
    "  SETUP['IN_COLAB'] = True\n",
    "except: SETUP['IN_COLAB'] = False\n",
    "\n",
    "SUBVERSION = \"v1.0.0\"\n",
    "SPECIFIC_RUN = 'SimpleCNN'\n",
    "VERSION_KEY = 'BananaNavigation'\n",
    "\n",
    "SETUP['RUN-KEY'] = \"_\".join([SUBVERSION, SPECIFIC_RUN, VERSION_KEY]) + '_'"
   ]
  },
  {
   "cell_type": "code",
   "execution_count": 2,
   "metadata": {
    "id": "aIOc3R5W52QI"
   },
   "outputs": [],
   "source": [
    "from pathlib import Path\n",
    "\n",
    "if SETUP['IN_COLAB']:\n",
    "    from google.colab import drive\n",
    "    drive.mount('/content/gdrive')\n",
    "    SETUP['PATH'] = Path(\"/content/gdrive/MyDrive/_Colab/RL-SmartAgent-BananaGame\")\n",
    "    !pip install optuna --quiet\n",
    "    !cd '/content/gdrive/MyDrive/_Colab/RL-SmartAgent-BananaGame/python'; pip install .\n",
    "else: SETUP['PATH'] = Path(\".\")\n",
    "\n",
    "SETUP['BANANA_PATH'] = str(SETUP['PATH'] / 'Banana_Linux_NoVis/Banana.x86_64') if SETUP['IN_COLAB'] else str(SETUP['PATH'] / \"Banana.app\")\n",
    "os.chdir(SETUP['PATH'])\n",
    "\n",
    "if SETUP['DEBUG']: SETUP['EPISODES'] = SETUP['DEBUG_EPISODES']"
   ]
  },
  {
   "cell_type": "markdown",
   "metadata": {
    "id": "PUHZKgBM5rDw"
   },
   "source": [
    "# Navigation\n",
    "\n",
    "---\n",
    "\n",
    "In this notebook, you will learn how to use the Unity ML-Agents environment for the first project of the [Deep Reinforcement Learning Nanodegree](https://www.udacity.com/course/deep-reinforcement-learning-nanodegree--nd893)."
   ]
  },
  {
   "cell_type": "markdown",
   "metadata": {
    "heading_collapsed": true,
    "id": "lLEZwaLs5rDy"
   },
   "source": [
    "### Start the Environment\n",
    "\n",
    "We begin by importing some necessary packages.  If the code cell below returns an error, please revisit the project instructions to double-check that you have installed [Unity ML-Agents](https://github.com/Unity-Technologies/ml-agents/blob/master/docs/Installation.md) and [NumPy](http://www.numpy.org/)."
   ]
  },
  {
   "cell_type": "code",
   "execution_count": 3,
   "metadata": {
    "executionInfo": {
     "elapsed": 359,
     "status": "ok",
     "timestamp": 1626085184121,
     "user": {
      "displayName": "Joao de Oliveira",
      "photoUrl": "https://lh3.googleusercontent.com/a-/AOh14GihOWrwyNatVkIU8_bY10TQ_vXU6yj1fX8-gw6tGgI=s64",
      "userId": "15570875331145277611"
     },
     "user_tz": 180
    },
    "hidden": true,
    "id": "tlpY8xKu5rDy"
   },
   "outputs": [],
   "source": [
    "from unityagents import UnityEnvironment\n",
    "import unityagents\n",
    "import numpy as np"
   ]
  },
  {
   "cell_type": "markdown",
   "metadata": {
    "hidden": true,
    "id": "_N4JSHqN5rDz"
   },
   "source": [
    "Next, we will start the environment!  **_Before running the code cell below_**, change the `file_name` parameter to match the location of the Unity environment that you downloaded.\n",
    "\n",
    "- **Mac**: `\"path/to/Banana.app\"`\n",
    "- **Windows** (x86): `\"path/to/Banana_Windows_x86/Banana.exe\"`\n",
    "- **Windows** (x86_64): `\"path/to/Banana_Windows_x86_64/Banana.exe\"`\n",
    "- **Linux** (x86): `\"path/to/Banana_Linux/Banana.x86\"`\n",
    "- **Linux** (x86_64): `\"path/to/Banana_Linux/Banana.x86_64\"`\n",
    "- **Linux** (x86, headless): `\"path/to/Banana_Linux_NoVis/Banana.x86\"`\n",
    "- **Linux** (x86_64, headless): `\"path/to/Banana_Linux_NoVis/Banana.x86_64\"`\n",
    "\n",
    "For instance, if you are using a Mac, then you downloaded `Banana.app`.  If this file is in the same folder as the notebook, then the line below should appear as follows:\n",
    "```\n",
    "env = UnityEnvironment(file_name=\"Banana.app\")\n",
    "```"
   ]
  },
  {
   "cell_type": "code",
   "execution_count": 4,
   "metadata": {
    "colab": {
     "base_uri": "https://localhost:8080/",
     "height": 35
    },
    "executionInfo": {
     "elapsed": 8,
     "status": "ok",
     "timestamp": 1626085292429,
     "user": {
      "displayName": "Joao de Oliveira",
      "photoUrl": "https://lh3.googleusercontent.com/a-/AOh14GihOWrwyNatVkIU8_bY10TQ_vXU6yj1fX8-gw6tGgI=s64",
      "userId": "15570875331145277611"
     },
     "user_tz": 180
    },
    "hidden": true,
    "id": "DcFF-MPzPHKg",
    "outputId": "a53af7ff-ce53-4f85-bbc3-042d8f5138a3"
   },
   "outputs": [
    {
     "data": {
      "text/plain": [
       "'Banana.app'"
      ]
     },
     "execution_count": 4,
     "metadata": {},
     "output_type": "execute_result"
    }
   ],
   "source": [
    "SETUP['BANANA_PATH']"
   ]
  },
  {
   "cell_type": "code",
   "execution_count": 5,
   "metadata": {
    "colab": {
     "base_uri": "https://localhost:8080/",
     "height": 198
    },
    "executionInfo": {
     "elapsed": 364,
     "status": "error",
     "timestamp": 1626087815300,
     "user": {
      "displayName": "Joao de Oliveira",
      "photoUrl": "https://lh3.googleusercontent.com/a-/AOh14GihOWrwyNatVkIU8_bY10TQ_vXU6yj1fX8-gw6tGgI=s64",
      "userId": "15570875331145277611"
     },
     "user_tz": 180
    },
    "hidden": true,
    "id": "EhElQXeQ5rDz",
    "outputId": "841dfd8b-6a49-4e7c-a70f-771ec999cdfc"
   },
   "outputs": [
    {
     "name": "stdout",
     "output_type": "stream",
     "text": [
      "Mono path[0] = '/Users/joao/Cloud/GDrive/_Colab/RL-SmartAgent-BananaGame/Banana.app/Contents/Resources/Data/Managed'\n",
      "Mono config path = '/Users/joao/Cloud/GDrive/_Colab/RL-SmartAgent-BananaGame/Banana.app/Contents/MonoBleedingEdge/etc'\n"
     ]
    },
    {
     "name": "stderr",
     "output_type": "stream",
     "text": [
      "INFO:unityagents:\n",
      "'Academy' started successfully!\n",
      "Unity Academy name: Academy\n",
      "        Number of Brains: 1\n",
      "        Number of External Brains : 1\n",
      "        Lesson number : 0\n",
      "        Reset Parameters :\n",
      "\t\t\n",
      "Unity brain name: BananaBrain\n",
      "        Number of Visual Observations (per agent): 0\n",
      "        Vector Observation space type: continuous\n",
      "        Vector Observation space size (per agent): 37\n",
      "        Number of stacked Vector Observation: 1\n",
      "        Vector Action space type: discrete\n",
      "        Vector Action space size (per agent): 4\n",
      "        Vector Action descriptions: , , , \n"
     ]
    }
   ],
   "source": [
    "#env = default_registry[\"Banan\"].make()\n",
    "\n",
    "env = UnityEnvironment(file_name=SETUP['BANANA_PATH'])"
   ]
  },
  {
   "cell_type": "markdown",
   "metadata": {
    "hidden": true,
    "id": "--B_4lKz5rD0"
   },
   "source": [
    "Environments contain **_brains_** which are responsible for deciding the actions of their associated agents. Here we check for the first brain available, and set it as the default brain we will be controlling from Python."
   ]
  },
  {
   "cell_type": "code",
   "execution_count": 6,
   "metadata": {
    "colab": {
     "base_uri": "https://localhost:8080/"
    },
    "executionInfo": {
     "elapsed": 517,
     "status": "ok",
     "timestamp": 1626085320993,
     "user": {
      "displayName": "Joao de Oliveira",
      "photoUrl": "https://lh3.googleusercontent.com/a-/AOh14GihOWrwyNatVkIU8_bY10TQ_vXU6yj1fX8-gw6tGgI=s64",
      "userId": "15570875331145277611"
     },
     "user_tz": 180
    },
    "hidden": true,
    "id": "y8kCtb6w5rD0",
    "outputId": "be7499e8-3c72-4d6b-c487-c7c64a44a675"
   },
   "outputs": [
    {
     "name": "stdout",
     "output_type": "stream",
     "text": [
      "BananaBrain \n",
      "\n",
      "\n",
      " Unity brain name: BananaBrain\n",
      "        Number of Visual Observations (per agent): 0\n",
      "        Vector Observation space type: continuous\n",
      "        Vector Observation space size (per agent): 37\n",
      "        Number of stacked Vector Observation: 1\n",
      "        Vector Action space type: discrete\n",
      "        Vector Action space size (per agent): 4\n",
      "        Vector Action descriptions: , , , \n"
     ]
    }
   ],
   "source": [
    "# get the default brain\n",
    "brain_name = env.brain_names[0]\n",
    "brain = env.brains[brain_name]\n",
    "\n",
    "print(brain_name, \"\\n\\n\\n\",brain)"
   ]
  },
  {
   "cell_type": "markdown",
   "metadata": {
    "id": "8kO6Nok85rD0"
   },
   "source": [
    "### 2. Examine the State and Action Spaces\n",
    "\n",
    "    The simulation contains a single agent that navigates a large environment.  At each time step, it has four actions at its disposal:\n",
    "- `0` - walk forward \n",
    "- `1` - walk backward\n",
    "- `2` - turn left\n",
    "- `3` - turn right\n",
    "\n",
    "The state space has `37` dimensions and contains the agent's velocity, along with ray-based perception of objects around agent's forward direction.  A reward of `+1` is provided for collecting a yellow banana, and a reward of `-1` is provided for collecting a blue banana. \n",
    "\n",
    "Run the code cell below to print some information about the environment."
   ]
  },
  {
   "cell_type": "code",
   "execution_count": 7,
   "metadata": {
    "colab": {
     "base_uri": "https://localhost:8080/"
    },
    "executionInfo": {
     "elapsed": 970,
     "status": "ok",
     "timestamp": 1626085324966,
     "user": {
      "displayName": "Joao de Oliveira",
      "photoUrl": "https://lh3.googleusercontent.com/a-/AOh14GihOWrwyNatVkIU8_bY10TQ_vXU6yj1fX8-gw6tGgI=s64",
      "userId": "15570875331145277611"
     },
     "user_tz": 180
    },
    "id": "uCFBQeQp5rD0",
    "outputId": "711e083e-5568-4ae6-8ac8-ce58dc4ba57c"
   },
   "outputs": [
    {
     "name": "stdout",
     "output_type": "stream",
     "text": [
      "Number of agents: 1\n",
      "Number of actions: 4\n",
      "States look like: [1.         0.         0.         0.         0.84408134 0.\n",
      " 0.         1.         0.         0.0748472  0.         1.\n",
      " 0.         0.         0.25755    1.         0.         0.\n",
      " 0.         0.74177343 0.         1.         0.         0.\n",
      " 0.25854847 0.         0.         1.         0.         0.09355672\n",
      " 0.         1.         0.         0.         0.31969345 0.\n",
      " 0.        ]\n",
      "States have length: 37\n"
     ]
    }
   ],
   "source": [
    "# reset the environment\n",
    "env_info = env.reset(train_mode=True)[brain_name]\n",
    "\n",
    "# number of agents in the environment\n",
    "print('Number of agents:', len(env_info.agents))\n",
    "\n",
    "# number of actions\n",
    "action_size = brain.vector_action_space_size\n",
    "print('Number of actions:', action_size)\n",
    "\n",
    "# examine the state space \n",
    "state = env_info.vector_observations[0]\n",
    "print('States look like:', state)\n",
    "state_size = len(state)\n",
    "print('States have length:', state_size)"
   ]
  },
  {
   "cell_type": "markdown",
   "metadata": {
    "id": "zlIDTR6O5rD1"
   },
   "source": [
    "### 3. Take Random Actions in the Environment\n",
    "\n",
    "In the next code cell, you will learn how to use the Python API to control the agent and receive feedback from the environment.\n",
    "\n",
    "Once this cell is executed, you will watch the agent's performance, if it selects an action (uniformly) at random with each time step.  A window should pop up that allows you to observe the agent, as it moves through the environment.  \n",
    "\n",
    "Of course, as part of the project, you'll have to change the code so that the agent is able to use its experience to gradually choose better actions when interacting with the environment!"
   ]
  },
  {
   "cell_type": "code",
   "execution_count": 8,
   "metadata": {
    "id": "xqTmoNrg5rD1",
    "outputId": "06d1c21c-56e4-40bb-cdb1-e275953df152"
   },
   "outputs": [],
   "source": [
    "def random_step():\n",
    "    env_info = env.reset(train_mode=False)[brain_name] # reset the environment\n",
    "    state = env_info.vector_observations[0]            # get the current state\n",
    "    score = 0                                          # initialize the score\n",
    "    while True:\n",
    "        action = np.random.randint(action_size)        # select an action\n",
    "        env_info = env.step(action)[brain_name]        # send the action to the environment\n",
    "        next_state = env_info.vector_observations[0]   # get the next state\n",
    "        reward = env_info.rewards[0]                   # get the reward\n",
    "        done = env_info.local_done[0]                  # see if episode has finished\n",
    "        score += reward                                # update the score\n",
    "        state = next_state                             # roll over the state to next time step\n",
    "        #print(env_info.vector_observations)\n",
    "        print(f'\\rscore: {score:<5}',end='')\n",
    "        if done: \n",
    "            print(f'\\nend of episode {time.time()-start:.3f} seg') # exit loop if episode finished\n",
    "            break\n",
    "\n",
    "    print(\"Final Score: {}\".format(score))\n",
    "    env.close()"
   ]
  },
  {
   "cell_type": "markdown",
   "metadata": {
    "id": "rdyGDRLD5rD1"
   },
   "source": [
    "When finished, you can close the environment."
   ]
  },
  {
   "cell_type": "markdown",
   "metadata": {
    "id": "fwXEvk7E5rD2"
   },
   "source": [
    "### 4. It's Your Turn!\n",
    "\n",
    "Now it's your turn to train your own agent to solve the environment!  When training the environment, set `train_mode=True`, so that the line for resetting the environment looks like the following:\n",
    "```python\n",
    "env_info = env.reset(train_mode=True)[brain_name]\n",
    "```"
   ]
  },
  {
   "cell_type": "code",
   "execution_count": 9,
   "metadata": {
    "code_folding": [],
    "colab": {
     "base_uri": "https://localhost:8080/",
     "height": 375
    },
    "executionInfo": {
     "elapsed": 40733,
     "status": "error",
     "timestamp": 1626085369102,
     "user": {
      "displayName": "Joao de Oliveira",
      "photoUrl": "https://lh3.googleusercontent.com/a-/AOh14GihOWrwyNatVkIU8_bY10TQ_vXU6yj1fX8-gw6tGgI=s64",
      "userId": "15570875331145277611"
     },
     "user_tz": 180
    },
    "id": "ckNb1Yfp5rD2",
    "outputId": "6c42dafb-68cf-4b62-9af9-079b68b4842f"
   },
   "outputs": [],
   "source": [
    "from agent import Agent\n",
    "from collections import deque\n",
    "import torch\n",
    "import time\n",
    "\n",
    "PASSING_SCORE = 13\n",
    "\n",
    "def dqn(agent_params, n_episodes=2000, max_t=1000, eps_start=1.0, eps_end=0.01, eps_decay=0.995, verbose=True):\n",
    "    agent = Agent(**agent_params)\n",
    "\n",
    "    \"\"\"Deep Q-Learning.\n",
    "    \n",
    "    Params\n",
    "    ======\n",
    "        n_episodes (int): maximum number of training episodes\n",
    "        max_t (int): maximum number of timesteps per episode\n",
    "        eps_start (float): starting value of epsilon, for epsilon-greedy action selection\n",
    "        eps_end (float): minimum value of epsilon\n",
    "        eps_decay (float): multiplicative factor (per episode) for decreasing epsilon\n",
    "    \"\"\"\n",
    "    scores = []                        # list containing scores from each episode\n",
    "    scores_window = deque(maxlen=100)  # last 100 scores\n",
    "    eps = eps_start                    # initialize epsilon\n",
    "    \n",
    "    for i_episode in range(1, n_episodes+1):\n",
    "        env_info = env.reset(train_mode=True)[brain_name]\n",
    "        #state = env.reset()\n",
    "        state = env_info.vector_observations[0]\n",
    "        score = 0\n",
    "        for t in range(max_t):\n",
    "            action = agent.act(state, eps)\n",
    "            env_info = env.step(action)[brain_name]        # send the action to the environment\n",
    "            next_state = env_info.vector_observations[0]   # get the next state\n",
    "            reward = env_info.rewards[0]                   # get the reward\n",
    "            done = env_info.local_done[0]                  # see if episode has finished\n",
    "            agent.step(state, action, reward, next_state, done)\n",
    "            state = next_state\n",
    "            score += reward\n",
    "            if done:\n",
    "                break \n",
    "        scores_window.append(score)       # save most recent score\n",
    "        scores.append(score)              # save most recent score\n",
    "        eps = max(eps_end, eps_decay*eps) # decrease epsilon\n",
    "        if verbose: print(f'\\rEpisode {i_episode}\\tAverage Score: {np.mean(scores_window):<4.2f}', end=\"\")\n",
    "        if i_episode % 100 == 0 and verbose: print()\n",
    "        if np.mean(scores_window) >= PASSING_SCORE:\n",
    "            if verbose: print('\\nEnvironment solved in {:d} episodes!\\tAverage Score: {:.2f}'.format(i_episode-100, np.mean(scores_window)))\n",
    "            if not SETUP['DEBUG']: torch.save(agent.qnetwork_local.state_dict(), 'checkpoint.pth')\n",
    "            return i_episode\n",
    "#    return np.where(np.array(scores) > PASSING_SCORE)[0][0] if len(np.where(np.array(scores) > PASSING_SCORE)[0]) > 0 else 999999\n",
    "    return i_episode + (np.where(np.array(scores) > PASSING_SCORE)[0][0] if len(np.where(np.array(scores) > PASSING_SCORE)[0]) > 0 else 999999)"
   ]
  },
  {
   "cell_type": "code",
   "execution_count": 10,
   "metadata": {},
   "outputs": [],
   "source": [
    "def objective(trial):\n",
    "    gamma = trial.suggest_float(\"gamma\", 0.85, 1, log=True)\n",
    "    tau = trial.suggest_float(\"tau\", 1e-6, 1e-1, log=True)\n",
    "    lr = trial.suggest_float(\"lr\", 1e-6, 1e-1, log=True)\n",
    "    fc1_units = trial.suggest_categorical(\"fc1_units\", [12,32,64,128,256,1024])\n",
    "    fc2_units = trial.suggest_categorical(\"fc2_units\", [12,32,64,128,256,1024])\n",
    "    eps_end = trial.suggest_float(\"eps_end\", 1e-6, 1e-1, log=True)\n",
    "    eps_decay = trial.suggest_float(\"gamma\", 0.85, 1, log=True)\n",
    "\n",
    "    agent_params = {'state_size': state_size, 'action_size':action_size, 'seed':SETUP['SEED'],  \n",
    "                    'BUFFER_SIZE': SETUP['BUFFER_SIZE'], 'BATCH_SIZE': SETUP['BATCH_SIZE'], \n",
    "                    'GAMMA': gamma, 'TAU': tau, 'LR': lr, 'UPDATE_EVERY': SETUP['UPDATE_EVERY'],\n",
    "                    'fc1_units': fc1_units, 'fc2_units': fc2_units\n",
    "                   }\n",
    "#    print(agent_params)\n",
    " #   print(SETUP['EPISODES'], SETUP['MAX_STEPS'], SETUP['EPS_INI'],eps_end, eps_decay)\n",
    "    score = dqn(agent_params, SETUP['EPISODES'], SETUP['MAX_STEPS'], SETUP['EPS_INI'],\n",
    "               eps_end, eps_decay, verbose=False)\n",
    "    print('finished study got', score)\n",
    "    #if score == 99999: raise optuna.exceptions.TrialPruned()\n",
    "    return score"
   ]
  },
  {
   "cell_type": "code",
   "execution_count": null,
   "metadata": {},
   "outputs": [
    {
     "name": "stderr",
     "output_type": "stream",
     "text": [
      "\u001b[32m[I 2021-07-12 17:26:37,225]\u001b[0m A new study created in memory with name: no-name-9f430f2f-e98b-4750-8e83-df9055e2e427\u001b[0m\n",
      "\u001b[32m[I 2021-07-12 17:30:15,672]\u001b[0m Trial 0 finished with value: 434.0 and parameters: {'gamma': 0.915788017940018, 'tau': 0.0890641567864362, 'lr': 0.0012442446822827895, 'fc1_units': 12, 'fc2_units': 32, 'eps_end': 2.4650961960412612e-05}. Best is trial 0 with value: 434.0.\u001b[0m\n"
     ]
    },
    {
     "name": "stdout",
     "output_type": "stream",
     "text": [
      "finished study got 434\n"
     ]
    },
    {
     "name": "stderr",
     "output_type": "stream",
     "text": [
      "\u001b[32m[I 2021-07-12 17:37:34,233]\u001b[0m Trial 1 finished with value: 1000499.0 and parameters: {'gamma': 0.9168517716774827, 'tau': 3.1217691008992035e-06, 'lr': 0.008359994464797288, 'fc1_units': 256, 'fc2_units': 256, 'eps_end': 0.007975419338330774}. Best is trial 0 with value: 434.0.\u001b[0m\n"
     ]
    },
    {
     "name": "stdout",
     "output_type": "stream",
     "text": [
      "finished study got 1000499\n"
     ]
    },
    {
     "name": "stderr",
     "output_type": "stream",
     "text": [
      "\u001b[32m[I 2021-07-12 17:44:59,203]\u001b[0m Trial 2 finished with value: 1000499.0 and parameters: {'gamma': 0.8900844311089697, 'tau': 2.034269578949832e-05, 'lr': 7.338621830143718e-06, 'fc1_units': 1024, 'fc2_units': 12, 'eps_end': 3.861054257280012e-05}. Best is trial 0 with value: 434.0.\u001b[0m\n"
     ]
    },
    {
     "name": "stdout",
     "output_type": "stream",
     "text": [
      "finished study got 1000499\n"
     ]
    },
    {
     "name": "stderr",
     "output_type": "stream",
     "text": [
      "\u001b[32m[I 2021-07-12 17:49:53,463]\u001b[0m Trial 3 finished with value: 1000499.0 and parameters: {'gamma': 0.9173451335149204, 'tau': 7.022270315009705e-05, 'lr': 3.3468471376590574e-06, 'fc1_units': 64, 'fc2_units': 12, 'eps_end': 3.86917075239304e-06}. Best is trial 0 with value: 434.0.\u001b[0m\n"
     ]
    },
    {
     "name": "stdout",
     "output_type": "stream",
     "text": [
      "finished study got 1000499\n"
     ]
    },
    {
     "name": "stderr",
     "output_type": "stream",
     "text": [
      "\u001b[32m[I 2021-07-12 18:06:24,206]\u001b[0m Trial 4 finished with value: 1000499.0 and parameters: {'gamma': 0.990004647996401, 'tau': 4.74990835778717e-06, 'lr': 0.023917955368409172, 'fc1_units': 1024, 'fc2_units': 1024, 'eps_end': 0.00031476803750086807}. Best is trial 0 with value: 434.0.\u001b[0m\n"
     ]
    },
    {
     "name": "stdout",
     "output_type": "stream",
     "text": [
      "finished study got 1000499\n"
     ]
    },
    {
     "name": "stderr",
     "output_type": "stream",
     "text": [
      "\u001b[32m[I 2021-07-12 18:10:39,156]\u001b[0m Trial 5 finished with value: 785.0 and parameters: {'gamma': 0.9916893229105904, 'tau': 0.008746192176615352, 'lr': 5.312353345466036e-05, 'fc1_units': 32, 'fc2_units': 32, 'eps_end': 2.4665827334713174e-05}. Best is trial 0 with value: 434.0.\u001b[0m\n"
     ]
    },
    {
     "name": "stdout",
     "output_type": "stream",
     "text": [
      "finished study got 785\n"
     ]
    },
    {
     "name": "stderr",
     "output_type": "stream",
     "text": [
      "\u001b[32m[I 2021-07-12 18:17:27,111]\u001b[0m Trial 6 finished with value: 705.0 and parameters: {'gamma': 0.900320967566566, 'tau': 0.006277389013475706, 'lr': 1.3669825559643676e-05, 'fc1_units': 32, 'fc2_units': 256, 'eps_end': 0.0998194570900715}. Best is trial 0 with value: 434.0.\u001b[0m\n"
     ]
    },
    {
     "name": "stdout",
     "output_type": "stream",
     "text": [
      "finished study got 705\n"
     ]
    },
    {
     "name": "stderr",
     "output_type": "stream",
     "text": [
      "\u001b[32m[I 2021-07-12 18:24:13,157]\u001b[0m Trial 7 finished with value: 1000499.0 and parameters: {'gamma': 0.9164314892511428, 'tau': 5.029878373245969e-05, 'lr': 3.754882346903124e-05, 'fc1_units': 256, 'fc2_units': 12, 'eps_end': 0.00036236902461627774}. Best is trial 0 with value: 434.0.\u001b[0m\n"
     ]
    },
    {
     "name": "stdout",
     "output_type": "stream",
     "text": [
      "finished study got 1000499\n"
     ]
    },
    {
     "name": "stderr",
     "output_type": "stream",
     "text": [
      "\u001b[32m[I 2021-07-12 18:41:02,412]\u001b[0m Trial 8 finished with value: 1000499.0 and parameters: {'gamma': 0.8781926718028442, 'tau': 1.4338793607126122e-06, 'lr': 1.808130022226453e-06, 'fc1_units': 1024, 'fc2_units': 1024, 'eps_end': 0.0005980830089009963}. Best is trial 0 with value: 434.0.\u001b[0m\n"
     ]
    },
    {
     "name": "stdout",
     "output_type": "stream",
     "text": [
      "finished study got 1000499\n"
     ]
    },
    {
     "name": "stderr",
     "output_type": "stream",
     "text": [
      "\u001b[32m[I 2021-07-12 18:45:52,424]\u001b[0m Trial 9 finished with value: 1000499.0 and parameters: {'gamma': 0.9596598134007623, 'tau': 1.3376980004683361e-05, 'lr': 0.021763863358071893, 'fc1_units': 64, 'fc2_units': 12, 'eps_end': 3.4674432268259457e-05}. Best is trial 0 with value: 434.0.\u001b[0m\n"
     ]
    },
    {
     "name": "stdout",
     "output_type": "stream",
     "text": [
      "finished study got 1000499\n"
     ]
    },
    {
     "name": "stderr",
     "output_type": "stream",
     "text": [
      "\u001b[32m[I 2021-07-12 18:50:06,435]\u001b[0m Trial 10 finished with value: 562.0 and parameters: {'gamma': 0.85824532385458, 'tau': 0.09626130433475409, 'lr': 0.0016046146607957403, 'fc1_units': 12, 'fc2_units': 128, 'eps_end': 1.0053111813157431e-06}. Best is trial 0 with value: 434.0.\u001b[0m\n"
     ]
    },
    {
     "name": "stdout",
     "output_type": "stream",
     "text": [
      "finished study got 562\n"
     ]
    },
    {
     "name": "stderr",
     "output_type": "stream",
     "text": [
      "\u001b[32m[I 2021-07-12 18:54:21,117]\u001b[0m Trial 11 finished with value: 594.0 and parameters: {'gamma': 0.8670503137311028, 'tau': 0.0926604425250395, 'lr': 0.0016419694019337565, 'fc1_units': 12, 'fc2_units': 128, 'eps_end': 1.7428782366686964e-06}. Best is trial 0 with value: 434.0.\u001b[0m\n"
     ]
    },
    {
     "name": "stdout",
     "output_type": "stream",
     "text": [
      "finished study got 594\n"
     ]
    },
    {
     "name": "stderr",
     "output_type": "stream",
     "text": [
      "\u001b[32m[I 2021-07-12 18:58:34,000]\u001b[0m Trial 12 finished with value: 589.0 and parameters: {'gamma': 0.8553403818298222, 'tau': 0.05516822114039591, 'lr': 0.0005551516661133361, 'fc1_units': 12, 'fc2_units': 64, 'eps_end': 5.306185463897321e-06}. Best is trial 0 with value: 434.0.\u001b[0m\n"
     ]
    },
    {
     "name": "stdout",
     "output_type": "stream",
     "text": [
      "finished study got 589\n"
     ]
    },
    {
     "name": "stderr",
     "output_type": "stream",
     "text": [
      "\u001b[32m[I 2021-07-12 19:05:02,188]\u001b[0m Trial 13 finished with value: 658.0 and parameters: {'gamma': 0.9561764450330815, 'tau': 0.0014803212638992626, 'lr': 0.0023945687622728383, 'fc1_units': 128, 'fc2_units': 32, 'eps_end': 9.412552020704091e-06}. Best is trial 0 with value: 434.0.\u001b[0m\n"
     ]
    },
    {
     "name": "stdout",
     "output_type": "stream",
     "text": [
      "finished study got 658\n"
     ]
    },
    {
     "name": "stderr",
     "output_type": "stream",
     "text": [
      "\u001b[32m[I 2021-07-12 19:08:14,525]\u001b[0m Trial 14 finished with value: 375.0 and parameters: {'gamma': 0.9480565287115452, 'tau': 0.024759451752750312, 'lr': 0.0001466502522566215, 'fc1_units': 12, 'fc2_units': 128, 'eps_end': 1.039172942134055e-06}. Best is trial 14 with value: 375.0.\u001b[0m\n"
     ]
    },
    {
     "name": "stdout",
     "output_type": "stream",
     "text": [
      "finished study got 375\n"
     ]
    },
    {
     "name": "stderr",
     "output_type": "stream",
     "text": [
      "\u001b[32m[I 2021-07-12 19:11:48,963]\u001b[0m Trial 15 finished with value: 411.0 and parameters: {'gamma': 0.9487991307817776, 'tau': 0.01868114615507994, 'lr': 0.00016518837718918923, 'fc1_units': 12, 'fc2_units': 128, 'eps_end': 0.00014123543815351081}. Best is trial 14 with value: 375.0.\u001b[0m\n"
     ]
    },
    {
     "name": "stdout",
     "output_type": "stream",
     "text": [
      "finished study got 411\n"
     ]
    },
    {
     "name": "stderr",
     "output_type": "stream",
     "text": [
      "\u001b[32m[I 2021-07-12 19:14:36,552]\u001b[0m Trial 16 finished with value: 330.0 and parameters: {'gamma': 0.9490340641815962, 'tau': 0.014138651245332017, 'lr': 0.00011948457134244564, 'fc1_units': 12, 'fc2_units': 128, 'eps_end': 0.00409569360136786}. Best is trial 16 with value: 330.0.\u001b[0m\n"
     ]
    },
    {
     "name": "stdout",
     "output_type": "stream",
     "text": [
      "finished study got 330\n"
     ]
    },
    {
     "name": "stderr",
     "output_type": "stream",
     "text": [
      "\u001b[32m[I 2021-07-12 19:20:26,604]\u001b[0m Trial 17 finished with value: 413.0 and parameters: {'gamma': 0.9382043092555059, 'tau': 0.0010335739249840937, 'lr': 0.00010705607069079874, 'fc1_units': 128, 'fc2_units': 128, 'eps_end': 0.004728535089557808}. Best is trial 16 with value: 330.0.\u001b[0m\n"
     ]
    },
    {
     "name": "stdout",
     "output_type": "stream",
     "text": [
      "finished study got 413\n"
     ]
    },
    {
     "name": "stderr",
     "output_type": "stream",
     "text": [
      "\u001b[32m[I 2021-07-12 19:23:29,657]\u001b[0m Trial 18 finished with value: 355.0 and parameters: {'gamma': 0.9748704565566926, 'tau': 0.0020638075353569874, 'lr': 0.0003065748753448507, 'fc1_units': 12, 'fc2_units': 128, 'eps_end': 0.004523276470011786}. Best is trial 16 with value: 330.0.\u001b[0m\n"
     ]
    },
    {
     "name": "stdout",
     "output_type": "stream",
     "text": [
      "finished study got 355\n"
     ]
    }
   ],
   "source": [
    "import optuna\n",
    "from optuna.trial import TrialState\n",
    "\n",
    "\n",
    "study = optuna.create_study(direction=\"minimize\")\n",
    "study.optimize(objective, n_trials=100, timeout=60*60*2)\n",
    "pruned_trials = study.get_trials(deepcopy=False, states=[TrialState.PRUNED])\n",
    "complete_trials = study.get_trials(deepcopy=False, states=[TrialState.COMPLETE])\n",
    "\n",
    "print(\"Study statistics: \")\n",
    "print(\"  Number of finished trials: \", len(study.trials))\n",
    "print(\"  Number of pruned trials: \", len(pruned_trials))\n",
    "print(\"  Number of complete trials: \", len(complete_trials))\n",
    "\n",
    "print(\"Best trial:\")\n",
    "trial = study.best_trial\n",
    "\n",
    "print(\"  Value: \", trial.value)\n",
    "\n",
    "print(\"  Params: \")\n",
    "for key, value in trial.params.items():\n",
    "    print(\"    {}: {}\".format(key, value))"
   ]
  },
  {
   "cell_type": "code",
   "execution_count": null,
   "metadata": {},
   "outputs": [],
   "source": [
    "optuna.visualization.plot_optimization_history(study)"
   ]
  },
  {
   "cell_type": "code",
   "execution_count": null,
   "metadata": {},
   "outputs": [],
   "source": [
    "#!pip install -U plotly>=4.0.0\n",
    "import joblib\n",
    "import optuna\n",
    "study = joblib.load('study.pkl')\n",
    "#study.trials # error\n",
    "optuna.visualization.plot_optimization_history(study)\n",
    "#import plotly\n",
    "#plotly.version\n",
    "#!python3 -m pip install plotly\n",
    "\n",
    "#joblib.dump(study, 'study.pkl')\n"
   ]
  },
  {
   "cell_type": "markdown",
   "metadata": {},
   "source": [
    "### New heading"
   ]
  },
  {
   "cell_type": "code",
   "execution_count": null,
   "metadata": {
    "id": "nfLp_HXm5rD2",
    "outputId": "43d77aee-fdbd-48ac-f4ba-955c7ed0bfa5"
   },
   "outputs": [],
   "source": [
    "import matplotlib.pyplot as plt\n",
    "print(f'First time reaches target: {np.where(np.array(scores) > PASSING_SCORE)[0][0]}; maximum score: {max(scores)}')\n",
    "# plot the scores\n",
    "fig = plt.figure()\n",
    "ax = fig.add_subplot(111)\n",
    "plt.plot(np.arange(len(scores)), scores)\n",
    "plt.ylabel('Score')\n",
    "plt.xlabel('Episode #')\n",
    "plt.show()"
   ]
  },
  {
   "cell_type": "code",
   "execution_count": null,
   "metadata": {
    "id": "Xv339Erh5rD3"
   },
   "outputs": [],
   "source": []
  }
 ],
 "metadata": {
  "accelerator": "GPU",
  "colab": {
   "collapsed_sections": [
    "eZEcgrQx7SK-",
    "8kO6Nok85rD0",
    "zlIDTR6O5rD1",
    "fwXEvk7E5rD2"
   ],
   "name": "Navigation.ipynb",
   "provenance": []
  },
  "kernelspec": {
   "display_name": "Python 3 (ipykernel)",
   "language": "python",
   "name": "python3"
  },
  "language_info": {
   "codemirror_mode": {
    "name": "ipython",
    "version": 3
   },
   "file_extension": ".py",
   "mimetype": "text/x-python",
   "name": "python",
   "nbconvert_exporter": "python",
   "pygments_lexer": "ipython3",
   "version": "3.8.10"
  },
  "toc": {
   "base_numbering": 1,
   "nav_menu": {},
   "number_sections": true,
   "sideBar": true,
   "skip_h1_title": false,
   "title_cell": "Table of Contents",
   "title_sidebar": "Contents",
   "toc_cell": false,
   "toc_position": {},
   "toc_section_display": true,
   "toc_window_display": false
  }
 },
 "nbformat": 4,
 "nbformat_minor": 1
}
