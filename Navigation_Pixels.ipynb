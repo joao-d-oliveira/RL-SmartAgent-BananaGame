{
 "cells": [
  {
   "cell_type": "code",
   "execution_count": 1,
   "metadata": {
    "code_folding": [
     2
    ],
    "executionInfo": {
     "elapsed": 474,
     "status": "ok",
     "timestamp": 1626400907540,
     "user": {
      "displayName": "Joao de Oliveira",
      "photoUrl": "https://lh3.googleusercontent.com/a-/AOh14GihOWrwyNatVkIU8_bY10TQ_vXU6yj1fX8-gw6tGgI=s64",
      "userId": "15570875331145277611"
     },
     "user_tz": 180
    },
    "id": "4eCf-lx3n7cX"
   },
   "outputs": [],
   "source": [
    "import os \n",
    "\n",
    "SETUP = {\n",
    "    'CURR_DIR': os.getcwd(),\n",
    "    'PASSING_SCORE': 13,\n",
    "    'DEBUG': False,\n",
    "    'DEBUG_EPISODES': 500,\n",
    "    'EPISODES': 2000,\n",
    "    'MAX_STEPS': 1000,\n",
    "    'EPS_INI': 1.0, \n",
    "    'EPS_END': 1e-5,\n",
    "    'EPS_DECAY': 0.995,\n",
    "    'GAMMA': 0.98,\n",
    "    'SEED':32,  \n",
    "    'BUFFER_SIZE': int(1e5),\n",
    "    'BATCH_SIZE': 64,\n",
    "    'GAMMA': 0.99,\n",
    "    'TAU': 2e-3,\n",
    "    'LR': 4e-4,\n",
    "    'UPDATE_EVERY': 3,\n",
    "    'FC1_UNITS': 64,\n",
    "    'FC2_UNITS': 64,\n",
    "    'USE_DOUBLE_DQN': False,\n",
    "    'USE_DUELING_DQN': False,\n",
    "    'USE_PRIORITIZED_EXP_REP':False,\n",
    "}\n",
    "\n",
    "try:\n",
    "  import google.colab\n",
    "  SETUP['IN_COLAB'] = True\n",
    "except: SETUP['IN_COLAB'] = False\n",
    "\n",
    "SUBVERSION = \"v1.0.0\"\n",
    "SPECIFIC_RUN = 'SimpleCNN'\n",
    "VERSION_KEY = 'BananaNavigation'\n",
    "\n",
    "SETUP['RUN-KEY'] = \"_\".join([SUBVERSION, SPECIFIC_RUN, VERSION_KEY]) + '_'"
   ]
  },
  {
   "cell_type": "code",
   "execution_count": 2,
   "metadata": {
    "colab": {
     "base_uri": "https://localhost:8080/"
    },
    "executionInfo": {
     "elapsed": 7729,
     "status": "ok",
     "timestamp": 1626400915984,
     "user": {
      "displayName": "Joao de Oliveira",
      "photoUrl": "https://lh3.googleusercontent.com/a-/AOh14GihOWrwyNatVkIU8_bY10TQ_vXU6yj1fX8-gw6tGgI=s64",
      "userId": "15570875331145277611"
     },
     "user_tz": 180
    },
    "id": "HDUMYQWdn7cY",
    "outputId": "46a59c3d-d800-44a1-b7f3-010df513421f"
   },
   "outputs": [],
   "source": [
    "from pathlib import Path\n",
    "\n",
    "if SETUP['IN_COLAB']:\n",
    "    from google.colab import drive\n",
    "    drive.mount('/content/gdrive')\n",
    "    SETUP['PATH'] = Path(\"/content/gdrive/MyDrive/_Colab/RL-SmartAgent-BananaGame\")\n",
    "    !pip install optuna --quiet\n",
    "    !cd '/content/gdrive/MyDrive/_Colab/RL-SmartAgent-BananaGame/python'; pip install .\n",
    "else: SETUP['PATH'] = Path(\".\")\n",
    "\n",
    "SETUP['BANANA_PATH'] = str(SETUP['PATH'] / 'Banana_Linux_NoVis/Banana.x86_64') if SETUP['IN_COLAB'] else str(SETUP['PATH'] / \"Banana.app\")\n",
    "os.chdir(SETUP['PATH'])\n",
    "\n",
    "if SETUP['DEBUG']: SETUP['EPISODES'] = SETUP['DEBUG_EPISODES']"
   ]
  },
  {
   "cell_type": "markdown",
   "metadata": {
    "id": "VjI7dOMyn7cY"
   },
   "source": [
    "# Navigation\n",
    "\n",
    "---\n",
    "\n",
    "Congratulations for completing the first project of the [Deep Reinforcement Learning Nanodegree](https://www.udacity.com/course/deep-reinforcement-learning-nanodegree--nd893)!  In this notebook, you will learn how to control an agent in a more challenging environment, where it can learn directly from raw pixels!  **Note that this exercise is optional!**"
   ]
  },
  {
   "cell_type": "markdown",
   "metadata": {
    "id": "EkRtMnprn7cY"
   },
   "source": [
    "## Start the Environment\n",
    "\n",
    "We begin by importing some necessary packages.  If the code cell below returns an error, please revisit the project instructions to double-check that you have installed [Unity ML-Agents](https://github.com/Unity-Technologies/ml-agents/blob/master/docs/Installation.md) and [NumPy](http://www.numpy.org/)."
   ]
  },
  {
   "cell_type": "code",
   "execution_count": 3,
   "metadata": {
    "executionInfo": {
     "elapsed": 6,
     "status": "ok",
     "timestamp": 1626400915985,
     "user": {
      "displayName": "Joao de Oliveira",
      "photoUrl": "https://lh3.googleusercontent.com/a-/AOh14GihOWrwyNatVkIU8_bY10TQ_vXU6yj1fX8-gw6tGgI=s64",
      "userId": "15570875331145277611"
     },
     "user_tz": 180
    },
    "id": "lmceF8ijn7cZ"
   },
   "outputs": [],
   "source": [
    "from unityagents import UnityEnvironment\n",
    "import numpy as np\n",
    "import matplotlib.pyplot as plt\n",
    "%matplotlib inline"
   ]
  },
  {
   "cell_type": "markdown",
   "metadata": {
    "id": "asDo1Ivcn7cZ"
   },
   "source": [
    "Next, we will start the environment!  **_Before running the code cell below_**, change the `file_name` parameter to match the location of the Unity environment that you downloaded.\n",
    "\n",
    "- **Mac**: `\"path/to/VisualBanana.app\"`\n",
    "- **Windows** (x86): `\"path/to/VisualBanana_Windows_x86/Banana.exe\"`\n",
    "- **Windows** (x86_64): `\"path/to/VisualBanana_Windows_x86_64/Banana.exe\"`\n",
    "- **Linux** (x86): `\"path/to/VisualBanana_Linux/Banana.x86\"`\n",
    "- **Linux** (x86_64): `\"path/to/VisualBanana_Linux/Banana.x86_64\"`\n",
    "- **Linux** (x86, headless): `\"path/to/VisualBanana_Linux_NoVis/Banana.x86\"`\n",
    "- **Linux** (x86_64, headless): `\"path/to/VisualBanana_Linux_NoVis/Banana.x86_64\"`\n",
    "\n",
    "For instance, if you are using a Mac, then you downloaded `VisualBanana.app`.  If this file is in the same folder as the notebook, then the line below should appear as follows:\n",
    "```\n",
    "env = UnityEnvironment(file_name=\"VisualBanana.app\")\n",
    "```"
   ]
  },
  {
   "cell_type": "markdown",
   "metadata": {
    "id": "BbLMkXdMn7cZ"
   },
   "source": [
    "Environments contain **_brains_** which are responsible for deciding the actions of their associated agents. Here we check for the first brain available, and set it as the default brain we will be controlling from Python."
   ]
  },
  {
   "cell_type": "markdown",
   "metadata": {
    "id": "nZUR5q6hn7ca"
   },
   "source": [
    "### 2. Examine the State and Action Spaces\n",
    "\n",
    "The simulation contains a single agent that navigates a large environment.  At each time step, it has four actions at its disposal:\n",
    "- `0` - walk forward \n",
    "- `1` - walk backward\n",
    "- `2` - turn left\n",
    "- `3` - turn right\n",
    "\n",
    "The environment state is an array of raw pixels with shape `(1, 84, 84, 3)`.  *Note that this code differs from the notebook for the project, where we are grabbing **`visual_observations`** (the raw pixels) instead of **`vector_observations`**.* A reward of `+1` is provided for collecting a yellow banana, and a reward of `-1` is provided for collecting a blue banana. \n",
    "\n",
    "Run the code cell below to print some information about the environment."
   ]
  },
  {
   "cell_type": "code",
   "execution_count": 4,
   "metadata": {
    "colab": {
     "base_uri": "https://localhost:8080/"
    },
    "executionInfo": {
     "elapsed": 532,
     "status": "ok",
     "timestamp": 1626400920325,
     "user": {
      "displayName": "Joao de Oliveira",
      "photoUrl": "https://lh3.googleusercontent.com/a-/AOh14GihOWrwyNatVkIU8_bY10TQ_vXU6yj1fX8-gw6tGgI=s64",
      "userId": "15570875331145277611"
     },
     "user_tz": 180
    },
    "id": "6rCKXgfwn7cZ",
    "outputId": "685ad81e-1099-408e-c2bd-1e93b533113b"
   },
   "outputs": [
    {
     "name": "stdout",
     "output_type": "stream",
     "text": [
      "Mono path[0] = '/Users/joao/Cloud/GDrive/_Colab/RL-SmartAgent-BananaGame/VisualBanana.app/Contents/Resources/Data/Managed'\n",
      "Mono config path = '/Users/joao/Cloud/GDrive/_Colab/RL-SmartAgent-BananaGame/VisualBanana.app/Contents/MonoBleedingEdge/etc'\n"
     ]
    },
    {
     "name": "stderr",
     "output_type": "stream",
     "text": [
      "INFO:unityagents:\n",
      "'Academy' started successfully!\n",
      "Unity Academy name: Academy\n",
      "        Number of Brains: 1\n",
      "        Number of External Brains : 1\n",
      "        Lesson number : 0\n",
      "        Reset Parameters :\n",
      "\t\t\n",
      "Unity brain name: BananaBrain\n",
      "        Number of Visual Observations (per agent): 1\n",
      "        Vector Observation space type: continuous\n",
      "        Vector Observation space size (per agent): 0\n",
      "        Number of stacked Vector Observation: 1\n",
      "        Vector Action space type: discrete\n",
      "        Vector Action space size (per agent): 4\n",
      "        Vector Action descriptions: , , , \n"
     ]
    }
   ],
   "source": [
    "env = UnityEnvironment(file_name=\"VisualBanana.app\")"
   ]
  },
  {
   "cell_type": "code",
   "execution_count": 5,
   "metadata": {
    "executionInfo": {
     "elapsed": 8,
     "status": "ok",
     "timestamp": 1626400920948,
     "user": {
      "displayName": "Joao de Oliveira",
      "photoUrl": "https://lh3.googleusercontent.com/a-/AOh14GihOWrwyNatVkIU8_bY10TQ_vXU6yj1fX8-gw6tGgI=s64",
      "userId": "15570875331145277611"
     },
     "user_tz": 180
    },
    "id": "jiPrEjkDn7ca"
   },
   "outputs": [],
   "source": [
    "# get the default brain\n",
    "brain_name = env.brain_names[0]\n",
    "brain = env.brains[brain_name]"
   ]
  },
  {
   "cell_type": "code",
   "execution_count": 6,
   "metadata": {
    "colab": {
     "base_uri": "https://localhost:8080/",
     "height": 375
    },
    "executionInfo": {
     "elapsed": 29805,
     "status": "error",
     "timestamp": 1626399865992,
     "user": {
      "displayName": "Joao de Oliveira",
      "photoUrl": "https://lh3.googleusercontent.com/a-/AOh14GihOWrwyNatVkIU8_bY10TQ_vXU6yj1fX8-gw6tGgI=s64",
      "userId": "15570875331145277611"
     },
     "user_tz": 180
    },
    "id": "PLSqmX6Wn7ca",
    "outputId": "8a84a1d2-0fe4-42d6-968c-613e6839276d"
   },
   "outputs": [
    {
     "name": "stdout",
     "output_type": "stream",
     "text": [
      "Number of agents: 1\n",
      "Number of actions: 4\n",
      "States look like:\n",
      "States have shape: (1, 84, 84, 3)\n",
      "(3, 84, 84)\n",
      "(1, 3, 84, 84)\n"
     ]
    },
    {
     "data": {
      "image/png": "[encoded data removed]",
      "text/plain": [
       "<Figure size 432x288 with 1 Axes>"
      ]
     },
     "metadata": {
      "needs_background": "light"
     },
     "output_type": "display_data"
    }
   ],
   "source": [
    "# reset the environment\n",
    "env_info = env.reset(train_mode=True)[brain_name]\n",
    "\n",
    "# number of agents in the environment\n",
    "print('Number of agents:', len(env_info.agents))\n",
    "\n",
    "# number of actions\n",
    "action_size = brain.vector_action_space_size\n",
    "print('Number of actions:', action_size)\n",
    "\n",
    "# examine the state space \n",
    "state = env_info.visual_observations[0]\n",
    "print('States look like:')\n",
    "print('States have shape:', state.shape)\n",
    "print(np.squeeze(state).transpose((2, 0, 1)).shape)\n",
    "print(state.transpose((0, 3, 1, 2)).shape)\n",
    "plt.imshow(np.squeeze(state))\n",
    "plt.show()\n",
    "state_size = state.shape\n"
   ]
  },
  {
   "cell_type": "markdown",
   "metadata": {
    "id": "zccxYQPOn7ca"
   },
   "source": [
    "### 3. Take Random Actions in the Environment\n",
    "\n",
    "In the next code cell, you will learn how to use the Python API to control the agent and receive feedback from the environment.\n",
    "\n",
    "Once this cell is executed, you will watch the agent's performance, if it selects an action (uniformly) at random with each time step.  A window should pop up that allows you to observe the agent, as it moves through the environment.  \n",
    "\n",
    "Of course, you'll have to change the code so that the agent is able to use its experience to gradually choose better actions when interacting with the environment!"
   ]
  },
  {
   "cell_type": "code",
   "execution_count": 7,
   "metadata": {
    "code_folding": [
     0
    ],
    "id": "YM_8fs7fn7ca"
   },
   "outputs": [],
   "source": [
    "def randomStes():\n",
    "    env_info = env.reset(train_mode=False)[brain_name] # reset the environment\n",
    "    state = env_info.visual_observations[0]            # get the current state\n",
    "    score = 0                                          # initialize the score\n",
    "    while True:\n",
    "        action = np.random.randint(action_size)        # select an action\n",
    "        env_info = env.step(action)[brain_name]        # send the action to the environment\n",
    "        next_state = env_info.visual_observations[0]   # get the next state\n",
    "        reward = env_info.rewards[0]                   # get the reward\n",
    "        done = env_info.local_done[0]                  # see if episode has finished\n",
    "        score += reward                                # update the score\n",
    "        state = next_state                             # roll over the state to next time step\n",
    "        if done:                                       # exit loop if episode finished\n",
    "            break\n",
    "\n",
    "    print(\"Score: {}\".format(score))\n",
    "    env.close()"
   ]
  },
  {
   "cell_type": "markdown",
   "metadata": {
    "id": "0Y-couXPn7cb"
   },
   "source": [
    "When finished, you can close the environment."
   ]
  },
  {
   "cell_type": "code",
   "execution_count": null,
   "metadata": {
    "id": "L4zbXazqn7cb"
   },
   "outputs": [],
   "source": []
  },
  {
   "cell_type": "markdown",
   "metadata": {
    "id": "UbwYOiUBn7cb"
   },
   "source": [
    "##  It's Your Turn!\n",
    "\n",
    "Now it's your turn to train your own agent to solve the environment!  When training the environment, set `train_mode=True`, so that the line for resetting the environment looks like the following:\n",
    "```python\n",
    "env_info = env.reset(train_mode=True)[brain_name]\n",
    "```"
   ]
  },
  {
   "cell_type": "code",
   "execution_count": 8,
   "metadata": {
    "id": "lJLS54Ssn7cb",
    "outputId": "c4605de1-6611-4d7d-9d9b-8720e9935a38"
   },
   "outputs": [
    {
     "data": {
      "text/plain": [
       "(1, 84, 84, 3)"
      ]
     },
     "execution_count": 8,
     "metadata": {},
     "output_type": "execute_result"
    }
   ],
   "source": [
    "state_size"
   ]
  },
  {
   "cell_type": "code",
   "execution_count": 9,
   "metadata": {
    "id": "f9xnHZKPn7cb"
   },
   "outputs": [],
   "source": [
    "from agent_vision import Agent_vision\n",
    "import datetime\n",
    "from collections import deque\n",
    "import torch\n",
    "import time\n",
    "    \n",
    "def dqn(agent_params, n_episodes=2000, max_t=1000, eps_start=1.0, eps_end=0.01, eps_decay=0.995, verbose=True, returnFullscores=True, stopTrainingAfterGoal=True):\n",
    "    agent = Agent_vision(**agent_params)\n",
    "    \n",
    "    n_starting = 1\n",
    "    \n",
    "#    agent.qnetwork_local.load_state_dict(torch.load(f'./models/checkpoint_local_pixels{n_starting}.pt'))\n",
    "#    agent.qnetwork_local.load_state_dict(torch.load(f'./models/checkpoint_target_pixels{n_starting}.pt'))\n",
    "    passing_score = SETUP['PASSING_SCORE']\n",
    "\n",
    "    \"\"\"Deep Q-Learning.\n",
    "    \n",
    "    Params\n",
    "    ======\n",
    "        n_episodes (int): maximum number of training episodes\n",
    "        max_t (int): maximum number of timesteps per episode\n",
    "        eps_start (float): starting value of epsilon, for epsilon-greedy action selection\n",
    "        eps_end (float): minimum value of epsilon\n",
    "        eps_decay (float): multiplicative factor (per episode) for decreasing epsilon\n",
    "        verbose (bool): print progress or not \n",
    "        returnFullscores (bool): whether to return full scores or only the episode where game was solved\n",
    "        stopTrainingAfterGoal (bool): whether to continue training after achieving goal to check full potential\n",
    "    \"\"\"\n",
    "    scores = []                        # list containing scores from each episode\n",
    "    scores_window = deque(maxlen=100)  # last 100 scores\n",
    "    eps = eps_start                    # initialize epsilon\n",
    "    announcedWin = False\n",
    "    for i_episode in range(n_starting, n_episodes+1):\n",
    "        \n",
    "        env_info = env.reset(train_mode=True)[brain_name]\n",
    "        #state = env.reset()\n",
    "        state = env_info.visual_observations[0]\n",
    "        state = state.squeeze(0).transpose(2,0,1)\n",
    "        \n",
    "        score = 0\n",
    "        for t in range(max_t):\n",
    "            action = agent.act(state, eps)\n",
    "            env_info = env.step(action)[brain_name]        # send the action to the environment\n",
    "            \n",
    "            next_state = env_info.visual_observations[0]  # get the next state\n",
    "            next_state = next_state.squeeze(0).transpose(2,0,1)\n",
    "            \n",
    "            reward = env_info.rewards[0]                   # get the reward\n",
    "            done = env_info.local_done[0]                  # see if episode has finished\n",
    "\n",
    "            agent.step(state, action, reward, next_state, done)\n",
    "            state = next_state\n",
    "            score += reward\n",
    "            if done:\n",
    "                break \n",
    "        scores_window.append(score)       # save most recent score\n",
    "        scores.append(score)              # save most recent score\n",
    "        eps = max(eps_end, eps_decay*eps) # decrease epsilon\n",
    "        \n",
    "        if verbose: print(f'\\r{str(datetime.datetime.now()):<30}Episode {str(i_episode):<5}\\tAverage Score: {np.mean(scores_window):<4.2f}', end=\"\")\n",
    "        if i_episode % 100 == 0 and verbose: \n",
    "            print()\n",
    "            \n",
    "            state = 0\n",
    "            next_state = 0\n",
    "            torch.save(agent.qnetwork_local.state_dict(), f'models/checkpoint_local_pixels{i_episode}.pt')\n",
    "            torch.save(agent.qnetwork_target.state_dict(), f'models/checkpoint_target_pixels{i_episode}.pt')\n",
    "            np.save(f'saved_score/checkpoint_local_pixels{i_episode}.npy', scores)\n",
    "        if np.mean(scores_window) >= passing_score and not announcedWin:\n",
    "            if verbose: print('\\nEnvironment solved in {:d} episodes!\\tAverage Score: {:.2f}'.format(i_episode-100, np.mean(scores_window)))\n",
    "            if not SETUP['DEBUG']: \n",
    "                torch.save(agent.qnetwork_local.state_dict(), 'models/checkpoint_local.pt')\n",
    "                torch.save(agent.qnetwork_target.state_dict(), 'models/checkpoint_target.pt')\n",
    "            if stopTrainingAfterGoal: break\n",
    "            else: announcedWin=True\n",
    "        \n",
    "    \n",
    "    # for hyperparameter search, it's helpfull to return only the first time \n",
    "    if returnFullscores: return scores\n",
    "    else: return i_episode + (np.where(np.array(scores) > passing_score)[0][0] if len(np.where(np.array(scores) > passing_score)[0]) > 0 else 999999)"
   ]
  },
  {
   "cell_type": "code",
   "execution_count": 10,
   "metadata": {
    "id": "UX_GvXOon7cb",
    "outputId": "603bc3d6-1e4b-4d1f-e9f7-0f67b1e41be7"
   },
   "outputs": [],
   "source": [
    "%load_ext autoreload\n",
    "%autoreload 2\n",
    "\n",
    "agent_params = {'state_size': state_size, 'action_size':action_size, 'seed':SETUP['SEED'],\n",
    "                'BUFFER_SIZE': SETUP['BUFFER_SIZE'], 'BATCH_SIZE': SETUP['BATCH_SIZE'], \n",
    "                'GAMMA': SETUP['GAMMA'], 'TAU': SETUP['TAU'], 'LR': SETUP['LR'],\n",
    "                'UPDATE_EVERY': SETUP['UPDATE_EVERY'],'fc1_units': SETUP['FC1_UNITS'],\n",
    "                'fc2_units': SETUP['FC2_UNITS']}"
   ]
  },
  {
   "cell_type": "code",
   "execution_count": 11,
   "metadata": {
    "id": "yaBpmU6wn7cb"
   },
   "outputs": [
    {
     "name": "stdout",
     "output_type": "stream",
     "text": [
      "The autoreload extension is already loaded. To reload it, use:\n",
      "  %reload_ext autoreload\n",
      "----------------------------------------------------------------\n",
      "        Layer (type)               Output Shape         Param #\n",
      "================================================================\n",
      "            Conv2d-1           [-1, 64, 84, 84]             256\n",
      "              ReLU-2           [-1, 64, 84, 84]               0\n",
      "            Conv2d-3          [-1, 128, 28, 28]          73,856\n",
      "              ReLU-4          [-1, 128, 28, 28]               0\n",
      "            Conv2d-5            [-1, 256, 9, 9]         295,168\n",
      "              ReLU-6            [-1, 256, 9, 9]               0\n",
      "            Conv2d-7            [-1, 512, 3, 3]       1,180,160\n",
      "              ReLU-8            [-1, 512, 3, 3]               0\n",
      "            Conv2d-9           [-1, 1024, 1, 1]       4,719,616\n",
      "             ReLU-10           [-1, 1024, 1, 1]               0\n",
      "          Flatten-11                 [-1, 1024]               0\n",
      "           Linear-12                  [-1, 512]         524,800\n",
      "             ReLU-13                  [-1, 512]               0\n",
      "           Linear-14                  [-1, 256]         131,328\n",
      "             ReLU-15                  [-1, 256]               0\n",
      "           Linear-16                    [-1, 4]           1,028\n",
      "================================================================\n",
      "Total params: 6,926,212\n",
      "Trainable params: 6,926,212\n",
      "Non-trainable params: 0\n",
      "----------------------------------------------------------------\n",
      "Input size (MB): 0.08\n",
      "Forward/backward pass size (MB): 8.84\n",
      "Params size (MB): 26.42\n",
      "Estimated Total Size (MB): 35.35\n",
      "----------------------------------------------------------------\n"
     ]
    }
   ],
   "source": [
    "%load_ext autoreload\n",
    "%autoreload 2\n",
    "\n",
    "import torchsummary\n",
    "from agent_vision import Agent_vision\n",
    "\n",
    "agent = Agent_vision(**agent_params)\n",
    "torchsummary.summary(agent.qnetwork_local, (3, 84, 84))"
   ]
  },
  {
   "cell_type": "code",
   "execution_count": 13,
   "metadata": {
    "id": "2uWQDNOCn7cb"
   },
   "outputs": [
    {
     "name": "stdout",
     "output_type": "stream",
     "text": [
      "Episode 100\tAverage Score: 0.20\n",
      "Episode 200\tAverage Score: 0.16\n",
      "Episode 300\tAverage Score: 0.70\n",
      "Episode 427\tAverage Score: 0.70\n"
     ]
    }
   ],
   "source": [
    "scores_per = dqn(agent_params, SETUP['EPISODES'], SETUP['MAX_STEPS'], SETUP['EPS_INI'],\n",
    "                 SETUP['EPS_END'], SETUP['EPS_DECAY'], verbose=True, stopTrainingAfterGoal=False)\n",
    "print('Episode 100\tAverage Score: 0.20')\n",
    "print('Episode 200\tAverage Score: 0.16')\n",
    "print('Episode 300\tAverage Score: 0.70')\n",
    "print('Episode 427\tAverage Score: 0.70')"
   ]
  },
  {
   "cell_type": "code",
   "execution_count": null,
   "metadata": {
    "id": "HQnMFiHWn7cc"
   },
   "outputs": [],
   "source": []
  },
  {
   "cell_type": "code",
   "execution_count": null,
   "metadata": {},
   "outputs": [],
   "source": []
  }
 ],
 "metadata": {
  "accelerator": "GPU",
  "colab": {
   "name": "Navigation_Pixels.ipynb",
   "provenance": []
  },
  "kernelspec": {
   "display_name": "Python 3 (ipykernel)",
   "language": "python",
   "name": "python3"
  },
  "language_info": {
   "codemirror_mode": {
    "name": "ipython",
    "version": 3
   },
   "file_extension": ".py",
   "mimetype": "text/x-python",
   "name": "python",
   "nbconvert_exporter": "python",
   "pygments_lexer": "ipython3",
   "version": "3.8.10"
  },
  "toc": {
   "base_numbering": 1,
   "nav_menu": {},
   "number_sections": true,
   "sideBar": true,
   "skip_h1_title": false,
   "title_cell": "Table of Contents",
   "title_sidebar": "Contents",
   "toc_cell": false,
   "toc_position": {},
   "toc_section_display": true,
   "toc_window_display": false
  }
 },
 "nbformat": 4,
 "nbformat_minor": 1
}
